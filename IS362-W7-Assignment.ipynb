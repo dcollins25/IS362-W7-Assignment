{
 "cells": [
  {
   "cell_type": "code",
   "execution_count": 1,
   "id": "e3e9e9e6",
   "metadata": {},
   "outputs": [],
   "source": [
    "# Dan Collins - IS362 - Week 7 Assignment"
   ]
  },
  {
   "cell_type": "code",
   "execution_count": 2,
   "id": "74a00ae5",
   "metadata": {},
   "outputs": [],
   "source": [
    "# Import pandas"
   ]
  },
  {
   "cell_type": "code",
   "execution_count": 3,
   "id": "7385ae58",
   "metadata": {},
   "outputs": [],
   "source": [
    "import pandas as pd"
   ]
  },
  {
   "cell_type": "code",
   "execution_count": 4,
   "id": "6afb20e2",
   "metadata": {},
   "outputs": [],
   "source": [
    "# Switch the directory to the location of the movies.csv file"
   ]
  },
  {
   "cell_type": "code",
   "execution_count": 5,
   "id": "93721133",
   "metadata": {},
   "outputs": [],
   "source": [
    "import os"
   ]
  },
  {
   "cell_type": "code",
   "execution_count": 6,
   "id": "700e09cd",
   "metadata": {},
   "outputs": [],
   "source": [
    "new_directory = r'C:\\Users\\dmcol\\Documents\\GitWork\\IS362-W7-Assignment'"
   ]
  },
  {
   "cell_type": "code",
   "execution_count": 7,
   "id": "46cd3094",
   "metadata": {},
   "outputs": [],
   "source": [
    "os.chdir(new_directory)"
   ]
  },
  {
   "cell_type": "code",
   "execution_count": 8,
   "id": "a7354324",
   "metadata": {},
   "outputs": [],
   "source": [
    "# Load the movies.csv file into a pandas dataframe"
   ]
  },
  {
   "cell_type": "code",
   "execution_count": 9,
   "id": "95cc4841",
   "metadata": {},
   "outputs": [],
   "source": [
    "df = pd.read_csv('movies.csv')"
   ]
  },
  {
   "cell_type": "code",
   "execution_count": 10,
   "id": "ac3bcbc2",
   "metadata": {},
   "outputs": [],
   "source": [
    "# get the average ratings for each user and for each movie"
   ]
  },
  {
   "cell_type": "code",
   "execution_count": 11,
   "id": "a0ea15c1",
   "metadata": {},
   "outputs": [],
   "source": [
    "average_user_ratings = df.set_index('Person').mean(axis=1)\n",
    "average_movie_ratings = df.set_index('Person').mean(axis=0)"
   ]
  },
  {
   "cell_type": "code",
   "execution_count": 20,
   "id": "b0512866",
   "metadata": {},
   "outputs": [],
   "source": [
    "# create a new dataframe with Normalized ratings for each user and movie"
   ]
  },
  {
   "cell_type": "code",
   "execution_count": 17,
   "id": "14ca9057",
   "metadata": {},
   "outputs": [],
   "source": [
    "min_max_scaler = lambda x: (x - x.min()) / (x.max() - x.min())\n",
    "normalized_df = df.set_index('Person').apply(min_max_scaler, axis=1)\n",
    "average_normalized_user_ratings = normalized_df.mean(axis=1)\n",
    "average_normalized_movie_ratings = normalized_df.mean(axis=0)"
   ]
  },
  {
   "cell_type": "markdown",
   "id": "9a4db8e2",
   "metadata": {},
   "source": [
    "The benefit of using Normalization is that tries to account for the variation in the way people rate things. In our program, for example, Dan appears to rate movies higher than Madison generally does. It could be true that they both like the movies that the like to the same degree, but their method of rating is different. Normazliation helps to account for these types of differences in the data. However, a disadvantage that may arise is that the normalization used may not be suitable for all types of data. "
   ]
  },
  {
   "cell_type": "code",
   "execution_count": 19,
   "id": "0bc36dbf",
   "metadata": {},
   "outputs": [],
   "source": [
    "# create a new dataframe with Standardized ratings for each user and movie"
   ]
  },
  {
   "cell_type": "code",
   "execution_count": 21,
   "id": "5d1d764c",
   "metadata": {},
   "outputs": [],
   "source": [
    "z_score_scaler = lambda x: (x - x.mean()) / x.std()\n",
    "standardized_df = df.set_index('Person').apply(z_score_scaler, axis=1)\n",
    "average_standardized_user_ratings = standardized_df.mean(axis=1)\n",
    "average_standardized_movie_ratings = standardized_df.mean(axis=0)"
   ]
  },
  {
   "cell_type": "markdown",
   "id": "9ec7af3f",
   "metadata": {},
   "source": [
    "Unlike the Normalized ratings, which shrink the data down to be contained within a range such as between 0 and 1, with the Standardized ratings, there is no such range. The Standardized ratings indicate how many standard deviations a rating is from the mean."
   ]
  },
  {
   "cell_type": "code",
   "execution_count": 22,
   "id": "a16e2e5c",
   "metadata": {},
   "outputs": [],
   "source": [
    "# Print out the results"
   ]
  },
  {
   "cell_type": "code",
   "execution_count": 23,
   "id": "0c8a8582",
   "metadata": {},
   "outputs": [
    {
     "name": "stdout",
     "output_type": "stream",
     "text": [
      "Average Ratings by User:\n",
      "Person\n",
      "Dan        3.50\n",
      "Steve      2.75\n",
      "Jane       3.50\n",
      "Wilma      3.25\n",
      "Madison    2.75\n",
      "dtype: float64\n",
      "\n",
      "Average Ratings by Movie:\n",
      "Dune                      3.75\n",
      "Barbie                    3.50\n",
      "Oppenheimer               4.50\n",
      "The Exorcist: Believer    2.25\n",
      "Saw X                     1.75\n",
      "dtype: float64\n",
      "\n",
      "Average Normalized Ratings by User:\n",
      "Person\n",
      "Dan        0.5000\n",
      "Steve      0.4375\n",
      "Jane       0.5000\n",
      "Wilma      0.6250\n",
      "Madison    0.2500\n",
      "dtype: float64\n",
      "\n",
      "Average Normalized Ratings by Movie:\n",
      "Dune                      0.625000\n",
      "Barbie                    0.625000\n",
      "Oppenheimer               0.916667\n",
      "The Exorcist: Believer    0.145833\n",
      "Saw X                     0.000000\n",
      "dtype: float64\n",
      "\n",
      "Average Standardized Ratings by User:\n",
      "Person\n",
      "Dan        0.000000e+00\n",
      "Steve      0.000000e+00\n",
      "Jane       0.000000e+00\n",
      "Wilma      5.551115e-17\n",
      "Madison    0.000000e+00\n",
      "dtype: float64\n",
      "\n",
      "Average Standardized Ratings by Movie:\n",
      "Dune                      0.264087\n",
      "Barbie                    0.397907\n",
      "Oppenheimer               0.958136\n",
      "The Exorcist: Believer   -0.658009\n",
      "Saw X                    -0.962121\n",
      "dtype: float64\n"
     ]
    }
   ],
   "source": [
    "print(\"Average Ratings by User:\")\n",
    "print(average_user_ratings)\n",
    "\n",
    "print(\"\\nAverage Ratings by Movie:\")\n",
    "print(average_movie_ratings)\n",
    "\n",
    "print(\"\\nAverage Normalized Ratings by User:\")\n",
    "print(average_normalized_user_ratings)\n",
    "\n",
    "print(\"\\nAverage Normalized Ratings by Movie:\")\n",
    "print(average_normalized_movie_ratings)\n",
    "\n",
    "print(\"\\nAverage Standardized Ratings by User:\")\n",
    "print(average_standardized_user_ratings)\n",
    "\n",
    "print(\"\\nAverage Standardized Ratings by Movie:\")\n",
    "print(average_standardized_movie_ratings)"
   ]
  },
  {
   "cell_type": "code",
   "execution_count": null,
   "id": "ec226d7a",
   "metadata": {},
   "outputs": [],
   "source": []
  }
 ],
 "metadata": {
  "kernelspec": {
   "display_name": "Python 3 (ipykernel)",
   "language": "python",
   "name": "python3"
  },
  "language_info": {
   "codemirror_mode": {
    "name": "ipython",
    "version": 3
   },
   "file_extension": ".py",
   "mimetype": "text/x-python",
   "name": "python",
   "nbconvert_exporter": "python",
   "pygments_lexer": "ipython3",
   "version": "3.9.13"
  }
 },
 "nbformat": 4,
 "nbformat_minor": 5
}
